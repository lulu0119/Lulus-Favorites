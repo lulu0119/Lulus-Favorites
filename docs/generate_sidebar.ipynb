{
 "cells": [
  {
   "cell_type": "code",
   "execution_count": 1,
   "metadata": {},
   "outputs": [],
   "source": [
    "import os\n",
    "import json\n",
    "\n",
    "def generate_sidebar(path):\n",
    "    result = []\n",
    "    for item in os.listdir(path):\n",
    "        item_path = os.path.join(path, item)\n",
    "        if os.path.isdir(item_path):\n",
    "            sub_items = generate_sidebar(item_path)\n",
    "            if sub_items:\n",
    "                result.append({\n",
    "                    \"text\": item,\n",
    "                    \"collapsed\": True,\n",
    "                    \"items\": sub_items\n",
    "                })\n",
    "        else:\n",
    "            if item.endswith(\".md\"):\n",
    "                result.append({\n",
    "                    \"text\": item[:-3],\n",
    "                    \"link\": '/' + os.path.relpath(item_path, start=\".\").replace(\"\\\\\", \"/\")\n",
    "                })\n",
    "    return result\n",
    "\n",
    "json_data = generate_sidebar('Favorites')\n",
    "with open('.vitepress/sidebar.json', \"w\") as f:\n",
    "    json.dump(json_data, f, indent=4)"
   ]
  }
 ],
 "metadata": {
  "kernelspec": {
   "display_name": "learn_pyspark",
   "language": "python",
   "name": "python3"
  },
  "language_info": {
   "codemirror_mode": {
    "name": "ipython",
    "version": 3
   },
   "file_extension": ".py",
   "mimetype": "text/x-python",
   "name": "python",
   "nbconvert_exporter": "python",
   "pygments_lexer": "ipython3",
   "version": "3.10.11"
  },
  "orig_nbformat": 4
 },
 "nbformat": 4,
 "nbformat_minor": 2
}
