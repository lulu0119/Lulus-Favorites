{
 "cells": [
  {
   "cell_type": "code",
   "execution_count": 1,
   "metadata": {},
   "outputs": [],
   "source": [
    "import os\n",
    "import json\n",
    "\n",
    "def auto_sidebar(document_path='/', collapsed=False, collapse_depth=None, exclude_files=[], exclude_folders=[]):\n",
    "    result = []\n",
    "    for item in os.listdir(document_path):\n",
    "        item_path = os.path.join(document_path, item)\n",
    "        if os.path.isdir(item_path):\n",
    "            if item in exclude_folders:\n",
    "                continue\n",
    "            sub_items = auto_sidebar(\n",
    "                document_path=item_path, \n",
    "                collapsed=collapsed, \n",
    "                collapse_depth=collapse_depth - 1 if isinstance(collapse_depth, int) else None, \n",
    "                exclude_files=exclude_files, \n",
    "                exclude_folders=exclude_folders\n",
    "                )\n",
    "            if sub_items:\n",
    "                result.append({\n",
    "                    \"text\": item,\n",
    "                    \"collapsed\": collapsed and (collapse_depth is None or collapse_depth <= 0),\n",
    "                    \"items\": sub_items\n",
    "                })\n",
    "        elif item.endswith(\".md\"):\n",
    "            if item in exclude_files or item[:-3] in exclude_files:\n",
    "                continue\n",
    "            result.append({\n",
    "                \"text\": item[:-3],\n",
    "                \"link\": '/' + os.path.relpath(item_path, start=\".\").replace(\"\\\\\", \"/\")\n",
    "            })\n",
    "    \n",
    "    return result\n",
    "\n",
    "\n",
    "result = auto_sidebar(document_path='Favorites', collapsed=True, collapse_depth=1)\n",
    "with open('.vitepress/sidebar.json', \"w\") as f:\n",
    "    json.dump(result, f, indent=4)"
   ]
  }
 ],
 "metadata": {
  "kernelspec": {
   "display_name": "learn_pyspark",
   "language": "python",
   "name": "python3"
  },
  "language_info": {
   "codemirror_mode": {
    "name": "ipython",
    "version": 3
   },
   "file_extension": ".py",
   "mimetype": "text/x-python",
   "name": "python",
   "nbconvert_exporter": "python",
   "pygments_lexer": "ipython3",
   "version": "3.11.4"
  },
  "orig_nbformat": 4
 },
 "nbformat": 4,
 "nbformat_minor": 2
}
